{
 "cells": [
  {
   "cell_type": "markdown",
   "metadata": {},
   "source": [
    "This program is free software: you can redistribute it and/or modify\n",
    "it under the terms of the GNU Lesser General Public License as published by\n",
    "the Free Software Foundation, either version 3 of the License, or\n",
    "(at your option) any later version.\n",
    "\n",
    "This program is distributed in the hope that it will be useful,\n",
    "but WITHOUT ANY WARRANTY; without even the implied warranty of\n",
    "MERCHANTABILITY or FITNESS FOR A PARTICULAR PURPOSE.  See the\n",
    "GNU Lesser General Public License for more details.\n",
    "\n",
    "You should have received a copy of the GNU Lesser General Public License\n",
    "along with this program.  If not, see <http://www.gnu.org/licenses/>.\n",
    "\n",
    "___\n",
    "\n",
    "- **Author:** Pau Manyer Fuertes\n",
    "- **Email:** pau.manyer@bsc.es\n",
    "- **Date:** October 2024\n",
    "- **Institution:** Barcelona Supercomputing Center (BSC)\n",
    "- **Department:** Computer Applications in Science and Engineering (CASE)\n",
    "- **Research Group:** Nuclear Fusion  \n",
    "___\n",
    "\n",
    "This jupyter notebook file constitutes the main testing script for FREE-boundary plasma equilibrium problems solved using the developed module EQUILIPY. EQUILIPY solves using CutFEM the Grad-Shafranov nonlinear elliptic PDE modelling the equilibrium in an axisymmetrical plasma system. \n",
    "\n",
    "After selecting the MESH and the free-boundary problem CASE, the file may be executed to launch the solver. EQUILIPY's output can be turned ON and OFF by change the bolean output parameters."
   ]
  },
  {
   "cell_type": "code",
   "execution_count": 1,
   "metadata": {},
   "outputs": [
    {
     "name": "stdout",
     "output_type": "stream",
     "text": [
      "READ INPUT FILES...\n",
      "     -> READ MESH DATA FILES..."
     ]
    },
    {
     "ename": "FileNotFoundError",
     "evalue": "[Errno 2] No such file or directory: '/home/elmanyer/Documents/BSC/EQUILI/EQUILIPY/EQUILIPY_FEMCutFEM/MESHES/TS-FEMCUTFEM-TRI03-MEDIUM/TS-CUTFEM-TRI03-MEDIUM.dom.dat'",
     "output_type": "error",
     "traceback": [
      "\u001b[0;31m---------------------------------------------------------------------------\u001b[0m",
      "\u001b[0;31mFileNotFoundError\u001b[0m                         Traceback (most recent call last)",
      "Cell \u001b[0;32mIn [1], line 40\u001b[0m\n\u001b[1;32m     37\u001b[0m Problem\u001b[38;5;241m.\u001b[39mELMAT_output \u001b[38;5;241m=\u001b[39m \u001b[38;5;28;01mFalse\u001b[39;00m                  \u001b[38;5;66;03m# OUTPUT SWITCH FOR ELEMENTAL MATRICES\u001b[39;00m\n\u001b[1;32m     39\u001b[0m \u001b[38;5;66;03m## COMPUTE PLASMA EQUILIBRIUM\u001b[39;00m\n\u001b[0;32m---> 40\u001b[0m \u001b[43mProblem\u001b[49m\u001b[38;5;241;43m.\u001b[39;49m\u001b[43mEQUILI\u001b[49m\u001b[43m(\u001b[49m\u001b[43m)\u001b[49m\n",
      "File \u001b[0;32m~/Documents/BSC/EQUILI/EQUILIPY/EQUILIPY_FEMCutFEM/TESTs/../src/GradShafranovFEMCutFEM.py:2948\u001b[0m, in \u001b[0;36mGradShafranovFEMCutFEM.EQUILI\u001b[0;34m(self)\u001b[0m\n\u001b[1;32m   2946\u001b[0m \u001b[38;5;66;03m# READ INPUT FILES\u001b[39;00m\n\u001b[1;32m   2947\u001b[0m \u001b[38;5;28mprint\u001b[39m(\u001b[38;5;124m\"\u001b[39m\u001b[38;5;124mREAD INPUT FILES...\u001b[39m\u001b[38;5;124m\"\u001b[39m)\n\u001b[0;32m-> 2948\u001b[0m \u001b[38;5;28;43mself\u001b[39;49m\u001b[38;5;241;43m.\u001b[39;49m\u001b[43mReadMesh\u001b[49m\u001b[43m(\u001b[49m\u001b[43m)\u001b[49m\n\u001b[1;32m   2949\u001b[0m \u001b[38;5;28mself\u001b[39m\u001b[38;5;241m.\u001b[39mReadFixdata()\n\u001b[1;32m   2950\u001b[0m \u001b[38;5;28mself\u001b[39m\u001b[38;5;241m.\u001b[39mReadEQUILIdata()\n",
      "File \u001b[0;32m~/Documents/BSC/EQUILI/EQUILIPY/EQUILIPY_FEMCutFEM/TESTs/../src/GradShafranovFEMCutFEM.py:279\u001b[0m, in \u001b[0;36mGradShafranovFEMCutFEM.ReadMesh\u001b[0;34m(self)\u001b[0m\n\u001b[1;32m    277\u001b[0m \u001b[38;5;28mself\u001b[39m\u001b[38;5;241m.\u001b[39mNn \u001b[38;5;241m=\u001b[39m \u001b[38;5;241m0\u001b[39m   \u001b[38;5;66;03m# number of nodes\u001b[39;00m\n\u001b[1;32m    278\u001b[0m \u001b[38;5;28mself\u001b[39m\u001b[38;5;241m.\u001b[39mNe \u001b[38;5;241m=\u001b[39m \u001b[38;5;241m0\u001b[39m   \u001b[38;5;66;03m# number of elements\u001b[39;00m\n\u001b[0;32m--> 279\u001b[0m file \u001b[38;5;241m=\u001b[39m \u001b[38;5;28;43mopen\u001b[39;49m\u001b[43m(\u001b[49m\u001b[43mMeshDataFile\u001b[49m\u001b[43m,\u001b[49m\u001b[43m \u001b[49m\u001b[38;5;124;43m'\u001b[39;49m\u001b[38;5;124;43mr\u001b[39;49m\u001b[38;5;124;43m'\u001b[39;49m\u001b[43m)\u001b[49m \n\u001b[1;32m    280\u001b[0m \u001b[38;5;28;01mfor\u001b[39;00m line \u001b[38;5;129;01min\u001b[39;00m file:\n\u001b[1;32m    281\u001b[0m     l \u001b[38;5;241m=\u001b[39m line\u001b[38;5;241m.\u001b[39msplit(\u001b[38;5;124m'\u001b[39m\u001b[38;5;124m=\u001b[39m\u001b[38;5;124m'\u001b[39m)\n",
      "\u001b[0;31mFileNotFoundError\u001b[0m: [Errno 2] No such file or directory: '/home/elmanyer/Documents/BSC/EQUILI/EQUILIPY/EQUILIPY_FEMCutFEM/MESHES/TS-FEMCUTFEM-TRI03-MEDIUM/TS-CUTFEM-TRI03-MEDIUM.dom.dat'"
     ]
    }
   ],
   "source": [
    "import sys\n",
    "sys.path.append('../')\n",
    "\n",
    "from src.GradShafranovFEMCutFEM import *\n",
    "\n",
    "### SELECT MESH FOLDER...\n",
    "###### LINEAR TRIANGULAR ELEMENT MESH\n",
    "MESH = 'TS-FEMCUTFEM-TRI03-MEDIUM'\n",
    "\n",
    "###### QUADRATIC TRIANGULAR ELEMENT MESH\n",
    "#MESH = 'TS-FEMCUTFEM-TRI06-MEDIUM'\n",
    "\n",
    "### SELECT SOLUTION CASE FILE:\n",
    "CASE = 'TS-FREE-PROFILES'         # FREE PLASMA BOUNDARY PLASMA CURRENT MODEL BASED ON PROFILES FOR PRESSURE AND TOROIDAL FIELD\n",
    "\n",
    "\n",
    "\n",
    "##############################################################\n",
    "\n",
    "## CREATE GRAD-SHAFRANOV PROBLEM \n",
    "Problem = GradShafranovFEMCutFEM(MESH,CASE)\n",
    "## DECLARE OUTPUT SWITCHS:\n",
    "##### OUTPUT PLOTS IN RUNTIME\n",
    "Problem.plotElemsClassi_output = False        # OUTPUT SWITCH FOR ELEMENTS CLASSIFICATION PLOTS AT EACH ITERATION\n",
    "Problem.plotPSI_output = True                 # OUTPUT SWITCH FOR PSI SOLUTION PLOTS AT EACH ITERATION\n",
    "##### OUTPUT FILES\n",
    "Problem.PARAMS_output = True                  # OUTPUT SWITCH FOR SIMULATION PARAMETERS \n",
    "Problem.PSI_output = True                     # OUTPUT SWITCH FOR PSI FIELD VALUES OBTAINED BY SOLVING THE CutFEM SYSTEM\n",
    "Problem.PSIcrit_output = True                 # OUTPUT SWITCH FOR CRITICAL PSI VALUES\n",
    "Problem.PSI_NORM_output = True                # OUTPUT SWITCH FOR THE PSI_NORM FIELD VALUES (AFTER NORMALISATION OF PSI FIELD)\n",
    "Problem.PSI_B_output = True                   # OUTPUT SWITCH FOR PSI_B BOUNDARY VALUES\n",
    "Problem.RESIDU_output = True                  # OUTPUT SWITCH FOR RESIDU FOR EACH ITERATION\n",
    "Problem.ElementsClassi_output = True          # OUTPUT SWITCH FOR CLASSIFICATION OF MESH ELEMENTS\n",
    "Problem.PlasmaLevSetVals_output = True        # OUTPUT SWITCH FOR PLASMA BOUNDARY LEVEL-SET FIELD VALUES\n",
    "Problem.VacVessLevSetVals_output = True       # OUTPUT SWITCH FOR VACUUM VESSEL BOUNDARY LEVEL-SET FIELD VALUES\n",
    "Problem.L2error_output = True                 # OUTPUT SWITCH FOR ERROR FIELD AND THE L2 ERROR NORM FOR THE CONVERGED SOLUTION \n",
    "Problem.ELMAT_output = False                  # OUTPUT SWITCH FOR ELEMENTAL MATRICES\n",
    "\n",
    "## COMPUTE PLASMA EQUILIBRIUM\n",
    "Problem.EQUILI()"
   ]
  }
 ],
 "metadata": {
  "kernelspec": {
   "display_name": "Python 3",
   "language": "python",
   "name": "python3"
  },
  "language_info": {
   "codemirror_mode": {
    "name": "ipython",
    "version": 3
   },
   "file_extension": ".py",
   "mimetype": "text/x-python",
   "name": "python",
   "nbconvert_exporter": "python",
   "pygments_lexer": "ipython3",
   "version": "3.10.12"
  }
 },
 "nbformat": 4,
 "nbformat_minor": 2
}
